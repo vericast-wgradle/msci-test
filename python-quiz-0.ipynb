{
 "cells": [
  {
   "cell_type": "markdown",
   "metadata": {
    "heading_collapsed": true
   },
   "source": [
    "# Introduction\n",
    "\n",
    "This introduction contains some basic information about Jupyter Notebooks.  If you're familiar with Jupyter Notebooks, then you may skip this section."
   ]
  },
  {
   "cell_type": "markdown",
   "metadata": {
    "hidden": true
   },
   "source": [
    "## Cell States\n",
    "\n",
    "Cells have two states: Code and Markdown.\n",
    "\n",
    "A cell is selected when it has a small border around it.\n",
    "\n",
    "A cell is active when the cursor is inside of it."
   ]
  },
  {
   "cell_type": "markdown",
   "metadata": {
    "hidden": true
   },
   "source": [
    "### Code"
   ]
  },
  {
   "cell_type": "markdown",
   "metadata": {
    "hidden": true
   },
   "source": [
    "Code cells behave the same way multi-line code blocks behave in terminal when running python.\n",
    "\n",
    "To convert a cell to Code, select it and press `Y`.\n",
    "\n",
    "To run a Code cell, select it and press `SHIFT+ENTER`.\n",
    "\n",
    "This next cell will print out some text."
   ]
  },
  {
   "cell_type": "code",
   "execution_count": 4,
   "metadata": {
    "hidden": true
   },
   "outputs": [
    {
     "name": "stdout",
     "output_type": "stream",
     "text": [
      "Text\n"
     ]
    }
   ],
   "source": [
    "# This text will print below\n",
    "print('Text')"
   ]
  },
  {
   "cell_type": "markdown",
   "metadata": {
    "hidden": true
   },
   "source": [
    "Code cells will also display the output of the last line in the cell if that line did not save the output to a variable:"
   ]
  },
  {
   "cell_type": "code",
   "execution_count": 5,
   "metadata": {
    "hidden": true
   },
   "outputs": [
    {
     "data": {
      "text/plain": [
       "'Text'"
      ]
     },
     "execution_count": 5,
     "metadata": {},
     "output_type": "execute_result"
    }
   ],
   "source": [
    "# This text and its single-quotes will display below\n",
    "'Text'"
   ]
  },
  {
   "cell_type": "markdown",
   "metadata": {
    "hidden": true
   },
   "source": [
    "### Markdown\n",
    "\n",
    "Markdown cells contain simple markdown.  It's great for documenting notebooks."
   ]
  },
  {
   "cell_type": "markdown",
   "metadata": {
    "hidden": true
   },
   "source": [
    "This cell contains markdown text and will not run any code."
   ]
  },
  {
   "cell_type": "markdown",
   "metadata": {},
   "source": [
    "# Quiz\n",
    "\n",
    "Go through the following quiz with your proctor.  The quiz isn't testing rote memorization of Python or programming strategies.  It is designed to give the proctor an idea on how you think and solve problems.  You are free to use any resource available to you, including your favorite search engine or even the proctor themself.\n",
    "\n",
    "The quiz is split up into parts, and each part can be completed independent of each other (though later parts might be easier to complete with functions from earlier ones).  Within each part, there are some questions that follow the format `Markdown Cell Containing Instructions / Empty Code Cell For Solution`\n",
    "\n",
    "Feel free to create additional cells as needed.  Take your time, and ask for clarification when you come across something confusing.  A solution that works is a correct solution, so don't stress out about optimization."
   ]
  },
  {
   "cell_type": "markdown",
   "metadata": {},
   "source": [
    "### Part 1: Variables and Functions"
   ]
  },
  {
   "cell_type": "markdown",
   "metadata": {},
   "source": [
    "In the next cell, save `15` and `25` to two variables, `x` and `y`."
   ]
  },
  {
   "cell_type": "code",
   "execution_count": null,
   "metadata": {},
   "outputs": [],
   "source": []
  },
  {
   "cell_type": "markdown",
   "metadata": {},
   "source": [
    "In the next cell, create a function that takes two values and add them."
   ]
  },
  {
   "cell_type": "code",
   "execution_count": null,
   "metadata": {},
   "outputs": [],
   "source": []
  },
  {
   "cell_type": "markdown",
   "metadata": {},
   "source": [
    "Add `x` and `y` and save the result to `z`."
   ]
  },
  {
   "cell_type": "code",
   "execution_count": null,
   "metadata": {},
   "outputs": [],
   "source": []
  },
  {
   "cell_type": "markdown",
   "metadata": {},
   "source": [
    "Print the sum of `x` and `y`."
   ]
  },
  {
   "cell_type": "code",
   "execution_count": null,
   "metadata": {},
   "outputs": [],
   "source": []
  },
  {
   "cell_type": "markdown",
   "metadata": {},
   "source": [
    "### Part 2: Lists and Sets"
   ]
  },
  {
   "cell_type": "markdown",
   "metadata": {},
   "source": [
    "Create a `list` containing the following values: `15`, `25`, `5`, and `15`."
   ]
  },
  {
   "cell_type": "code",
   "execution_count": null,
   "metadata": {},
   "outputs": [],
   "source": []
  },
  {
   "cell_type": "markdown",
   "metadata": {},
   "source": [
    "Create a `list` containing the following values: `15`, `25`, and `32`."
   ]
  },
  {
   "cell_type": "code",
   "execution_count": null,
   "metadata": {},
   "outputs": [],
   "source": []
  },
  {
   "cell_type": "markdown",
   "metadata": {},
   "source": [
    "Find the intersection of your two lists."
   ]
  },
  {
   "cell_type": "code",
   "execution_count": null,
   "metadata": {},
   "outputs": [],
   "source": []
  },
  {
   "cell_type": "markdown",
   "metadata": {},
   "source": [
    "Find the difference between your first list and your second list."
   ]
  },
  {
   "cell_type": "code",
   "execution_count": null,
   "metadata": {},
   "outputs": [],
   "source": []
  },
  {
   "cell_type": "markdown",
   "metadata": {},
   "source": [
    "Find the difference between your second list and your first list."
   ]
  },
  {
   "cell_type": "code",
   "execution_count": null,
   "metadata": {},
   "outputs": [],
   "source": []
  },
  {
   "cell_type": "markdown",
   "metadata": {},
   "source": [
    "### Part 4: Loops"
   ]
  },
  {
   "cell_type": "markdown",
   "metadata": {},
   "source": [
    "Create a `list` containing every letter of the alphabet."
   ]
  },
  {
   "cell_type": "code",
   "execution_count": null,
   "metadata": {},
   "outputs": [],
   "source": []
  },
  {
   "cell_type": "markdown",
   "metadata": {},
   "source": [
    "Print every letter of the alphabet."
   ]
  },
  {
   "cell_type": "code",
   "execution_count": null,
   "metadata": {},
   "outputs": [],
   "source": []
  },
  {
   "cell_type": "markdown",
   "metadata": {},
   "source": [
    "Print every letter of the alphabet, cumulatively.  It should display like this:\n",
    "\n",
    "```\n",
    "a\n",
    "ab\n",
    "abc\n",
    "abcd\n",
    "abcde\n",
    "abcdef\n",
    "abcdefg\n",
    "abcdefgh\n",
    "abcdefghi\n",
    "abcdefghij\n",
    "abcdefghijk\n",
    "abcdefghijkl\n",
    "abcdefghijklm\n",
    "abcdefghijklmn\n",
    "abcdefghijklmno\n",
    "abcdefghijklmnop\n",
    "abcdefghijklmnopq\n",
    "abcdefghijklmnopqr\n",
    "abcdefghijklmnopqrs\n",
    "abcdefghijklmnopqrst\n",
    "abcdefghijklmnopqrstu\n",
    "abcdefghijklmnopqrstuv\n",
    "abcdefghijklmnopqrstuvw\n",
    "abcdefghijklmnopqrstuvwx\n",
    "abcdefghijklmnopqrstuvwxy\n",
    "abcdefghijklmnopqrstuvwxyz\n",
    "```"
   ]
  },
  {
   "cell_type": "code",
   "execution_count": null,
   "metadata": {},
   "outputs": [],
   "source": []
  },
  {
   "cell_type": "markdown",
   "metadata": {},
   "source": [
    "### Part 3: Imports and Pandas"
   ]
  },
  {
   "cell_type": "markdown",
   "metadata": {},
   "source": [
    "Import `pandas` and alias it as `pd`"
   ]
  },
  {
   "cell_type": "code",
   "execution_count": null,
   "metadata": {},
   "outputs": [],
   "source": []
  },
  {
   "cell_type": "markdown",
   "metadata": {},
   "source": [
    "Read `sample-data-0.csv` into a Pandas DataFrame."
   ]
  },
  {
   "cell_type": "code",
   "execution_count": null,
   "metadata": {},
   "outputs": [],
   "source": []
  },
  {
   "cell_type": "markdown",
   "metadata": {},
   "source": [
    "`sample-data-0.csv` should be unique across `store`, `product`, and `date`.  Check this condition."
   ]
  },
  {
   "cell_type": "code",
   "execution_count": null,
   "metadata": {},
   "outputs": [],
   "source": []
  },
  {
   "cell_type": "markdown",
   "metadata": {},
   "source": [
    "Read `sample-data-1.txt` into a Pandas DataFrame."
   ]
  },
  {
   "cell_type": "code",
   "execution_count": null,
   "metadata": {},
   "outputs": [],
   "source": []
  },
  {
   "cell_type": "markdown",
   "metadata": {},
   "source": [
    "`sample-data-1.txt` should be unique across `store`, `product`, and `date`.  Check this condition."
   ]
  },
  {
   "cell_type": "code",
   "execution_count": null,
   "metadata": {},
   "outputs": [],
   "source": []
  },
  {
   "cell_type": "markdown",
   "metadata": {},
   "source": [
    "There is a module in this folder named `excel_munge`.  It contains utility functions that might be helpful in the next exercise.  Import it as `em`."
   ]
  },
  {
   "cell_type": "code",
   "execution_count": null,
   "metadata": {},
   "outputs": [],
   "source": []
  },
  {
   "cell_type": "markdown",
   "metadata": {},
   "source": [
    "[This one is long and a bit tricky, so there isn't an expectation that you finish]\n",
    "\n",
    "`sample-data-2.xlsx` contains a sheet named \"ReportData\".  Do the following (note that some steps can be done out of order.  If you get stumped, ask the proctor if you can skip it and do the next one):\n",
    "\n",
    "1. Find the header row in the \"ReportData\" sheet from `sample-data-2.xlsx`.\n",
    "2. Read \"ReportData\" from `sample-data-2.xlsx` into a DataFrame, ensuring column headers are the data's intended column headers.\n",
    "    * They should contain `Store`, `Product`, `Sales USD`, `Sales Qty`, and `Date`.\n",
    "3. \"ReportData\" from `sample-data-2.xlsx` should be unique across `Store`, `Product`, and `Date`.  Check this condition.\n",
    "4. Melt the data so there are five columns: `Store`, `Product`, `Unit`, `Date`, and `value`.\n",
    "    * `Unit` should contain `Sales USD` and `Sales Qty`.\n",
    "    * `value` should be the data contained in those original unit columns\n",
    "5. [dep 4] Map units in `Unit` to a column named `unit_name` with the following mapping:\n",
    "    * `Sales USD`: `SALES_DOLLARS`\n",
    "    * `Sales Qty`: `SALES_UNITS`\n",
    "6. Extract the UPC and product description from the `Product` column.  Assign the new values to `product_name` and `product_description`.\n",
    "7. Extract the date from the `Date` column and convert it to Pandas DateTime.  Assign the new values to `date`."
   ]
  },
  {
   "cell_type": "code",
   "execution_count": null,
   "metadata": {},
   "outputs": [],
   "source": []
  }
 ],
 "metadata": {
  "kernelspec": {
   "display_name": "Python 3 [ analysis-preview-py3 ]",
   "language": "python",
   "name": "analysis-preview-py3-latest"
  },
  "language_info": {
   "codemirror_mode": {
    "name": "ipython",
    "version": 3
   },
   "file_extension": ".py",
   "mimetype": "text/x-python",
   "name": "python",
   "nbconvert_exporter": "python",
   "pygments_lexer": "ipython3",
   "version": "3.6.7"
  }
 },
 "nbformat": 4,
 "nbformat_minor": 2
}
